{
 "cells": [
  {
   "cell_type": "code",
   "execution_count": 1,
   "metadata": {},
   "outputs": [
    {
     "data": {
      "text/plain": [
       "3×4 Array{Float64,2}:\n",
       " 1.92459  1.20789   0.312463  0.986334\n",
       " 2.12802  1.12776   0.63084   1.38877\n",
       " 1.3562   0.693141  0.836933  1.23002"
      ]
     },
     "execution_count": 1,
     "metadata": {},
     "output_type": "execute_result"
    }
   ],
   "source": [
    "A = rand(3, 5)\n",
    "B = rand(5, 4)\n",
    "A * B"
   ]
  },
  {
   "cell_type": "code",
   "execution_count": 2,
   "metadata": {},
   "outputs": [
    {
     "data": {
      "text/plain": [
       "3×4 Array{Float64,2}:\n",
       " 1.92459  1.20789   0.312463  0.986334\n",
       " 2.12802  1.12776   0.63084   1.38877\n",
       " 1.3562   0.693141  0.836933  1.23002"
      ]
     },
     "execution_count": 2,
     "metadata": {},
     "output_type": "execute_result"
    }
   ],
   "source": [
    "C = zeros(3, 4)\n",
    "for i = 1:3, j = 1:4\n",
    "    C[i,j] = sum(A[i,k] * B[k,j] for k = 1:5)\n",
    "end\n",
    "C"
   ]
  },
  {
   "cell_type": "code",
   "execution_count": 10,
   "metadata": {},
   "outputs": [
    {
     "data": {
      "text/plain": [
       "(2.2888031005859375, 76293.9453125)"
      ]
     },
     "execution_count": 10,
     "metadata": {},
     "output_type": "execute_result"
    }
   ],
   "source": [
    "n = 100000\n",
    "Float64.size * (3n - 2) / 1024 / 1024, Float64.size * n^2 / 1024 / 1024"
   ]
  },
  {
   "cell_type": "code",
   "execution_count": 12,
   "metadata": {},
   "outputs": [
    {
     "name": "stderr",
     "output_type": "stream",
     "text": [
      "\u001b[32m\u001b[1m   Updating\u001b[22m\u001b[39m registry at `~/.julia/registries/General`\n"
     ]
    },
    {
     "name": "stdout",
     "output_type": "stream",
     "text": [
      "\u001b[?25l    "
     ]
    },
    {
     "name": "stderr",
     "output_type": "stream",
     "text": [
      "\u001b[32m\u001b[1m   Updating\u001b[22m\u001b[39m git-repo `https://github.com/JuliaRegistries/General.git`\n"
     ]
    },
    {
     "name": "stdout",
     "output_type": "stream",
     "text": [
      "\u001b[2K\u001b[?25h[1mFetching:\u001b[22m\u001b[39m [========================================>]  99.9 %30.8 %\u001b[36m\u001b[1mFetching:\u001b[22m\u001b[39m [==============>                          ]  32.9 %>                 ]  55.8 %================================>        ]  78.9 %\u001b[36m\u001b[1mFetching:\u001b[22m\u001b[39m [=====================================>   ]  92.5 %"
     ]
    },
    {
     "name": "stderr",
     "output_type": "stream",
     "text": [
      "\u001b[32m\u001b[1m  Resolving\u001b[22m\u001b[39m package versions...\n",
      "\u001b[32m\u001b[1m  Installed\u001b[22m\u001b[39m JpegTurbo_jll ─ v2.0.1+1\n",
      "######################################################################### 100.0%##O=#  #                                                                       \n",
      "\u001b[32m\u001b[1m   Updating\u001b[22m\u001b[39m `~/.julia/environments/v1.4/Project.toml`\n",
      " \u001b[90m [6e4b80f9]\u001b[39m\u001b[92m + BenchmarkTools v0.5.0\u001b[39m\n",
      "\u001b[32m\u001b[1m   Updating\u001b[22m\u001b[39m `~/.julia/environments/v1.4/Manifest.toml`\n",
      " \u001b[90m [aacddb02]\u001b[39m\u001b[93m ↑ JpegTurbo_jll v2.0.1+0 ⇒ v2.0.1+1\u001b[39m\n",
      " \u001b[90m [458c3c95]\u001b[39m\u001b[93m ↑ OpenSSL_jll v1.1.1+2 ⇒ v1.1.1+4\u001b[39m\n",
      " \u001b[90m [83775a58]\u001b[39m\u001b[93m ↑ Zlib_jll v1.2.11+10 ⇒ v1.2.11+14\u001b[39m\n"
     ]
    }
   ],
   "source": [
    "using Pkg\n",
    "pkg\"add BenchmarkTools\""
   ]
  },
  {
   "cell_type": "code",
   "execution_count": 13,
   "metadata": {},
   "outputs": [],
   "source": [
    "using BenchmarkTools"
   ]
  },
  {
   "cell_type": "code",
   "execution_count": 14,
   "metadata": {},
   "outputs": [
    {
     "data": {
      "text/plain": [
       "multAx2 (generic function with 1 method)"
      ]
     },
     "execution_count": 14,
     "metadata": {},
     "output_type": "execute_result"
    }
   ],
   "source": [
    "function multAx1(y, A, x)\n",
    "    m, n = size(A)\n",
    "    for i = 1:m\n",
    "        y[i] = 0.0\n",
    "        for j = 1:n\n",
    "            y[i] += A[i,j] * x[j]\n",
    "        end\n",
    "    end\n",
    "end\n",
    "\n",
    "function multAx2(y, A, x)\n",
    "    m, n = size(A)\n",
    "    for i = 1:m\n",
    "        y[i] = 0.0\n",
    "    end\n",
    "    for j = 1:n\n",
    "        for i = 1:m\n",
    "            y[i] += A[i,j] * x[j]\n",
    "        end\n",
    "    end\n",
    "end"
   ]
  },
  {
   "cell_type": "code",
   "execution_count": 16,
   "metadata": {},
   "outputs": [],
   "source": [
    "n = 1000\n",
    "A = rand(n, n)\n",
    "x = rand(n);"
   ]
  },
  {
   "cell_type": "code",
   "execution_count": 19,
   "metadata": {},
   "outputs": [
    {
     "data": {
      "text/plain": [
       "true"
      ]
     },
     "execution_count": 19,
     "metadata": {},
     "output_type": "execute_result"
    }
   ],
   "source": [
    "y1 = zeros(n)\n",
    "y2 = zeros(n)\n",
    "multAx1(y1, A, x)\n",
    "multAx2(y2, A, x)\n",
    "y1 ≈ y2 ≈ A * x"
   ]
  },
  {
   "cell_type": "code",
   "execution_count": 20,
   "metadata": {},
   "outputs": [
    {
     "data": {
      "text/plain": [
       "BenchmarkTools.Trial: \n",
       "  memory estimate:  0 bytes\n",
       "  allocs estimate:  0\n",
       "  --------------\n",
       "  minimum time:     2.393 ms (0.00% GC)\n",
       "  median time:      2.877 ms (0.00% GC)\n",
       "  mean time:        3.072 ms (0.00% GC)\n",
       "  maximum time:     6.847 ms (0.00% GC)\n",
       "  --------------\n",
       "  samples:          1622\n",
       "  evals/sample:     1"
      ]
     },
     "execution_count": 20,
     "metadata": {},
     "output_type": "execute_result"
    }
   ],
   "source": [
    "y = zeros(n)\n",
    "@benchmark multAx1(y, $A, $x)"
   ]
  },
  {
   "cell_type": "code",
   "execution_count": 21,
   "metadata": {},
   "outputs": [
    {
     "data": {
      "text/plain": [
       "BenchmarkTools.Trial: \n",
       "  memory estimate:  0 bytes\n",
       "  allocs estimate:  0\n",
       "  --------------\n",
       "  minimum time:     945.454 μs (0.00% GC)\n",
       "  median time:      1.101 ms (0.00% GC)\n",
       "  mean time:        1.234 ms (0.00% GC)\n",
       "  maximum time:     3.133 ms (0.00% GC)\n",
       "  --------------\n",
       "  samples:          4016\n",
       "  evals/sample:     1"
      ]
     },
     "execution_count": 21,
     "metadata": {},
     "output_type": "execute_result"
    }
   ],
   "source": [
    "y = zeros(n)\n",
    "@benchmark multAx2(y, $A, $x)"
   ]
  },
  {
   "cell_type": "code",
   "execution_count": 22,
   "metadata": {},
   "outputs": [],
   "source": [
    "using SparseArrays"
   ]
  },
  {
   "cell_type": "code",
   "execution_count": 23,
   "metadata": {},
   "outputs": [
    {
     "data": {
      "text/plain": [
       "10×10 SparseMatrixCSC{Float64,Int64} with 38 stored entries:\n",
       "  [2 ,  1]  =  0.782429\n",
       "  [4 ,  1]  =  0.920911\n",
       "  [7 ,  1]  =  0.679593\n",
       "  [8 ,  1]  =  0.372045\n",
       "  [9 ,  1]  =  0.164379\n",
       "  [2 ,  2]  =  0.954312\n",
       "  [8 ,  2]  =  0.350904\n",
       "  [1 ,  3]  =  0.318364\n",
       "  [2 ,  3]  =  0.54593\n",
       "  [6 ,  3]  =  0.0311635\n",
       "  [7 ,  3]  =  0.904087\n",
       "  [8 ,  3]  =  0.854703\n",
       "  ⋮\n",
       "  [2 ,  7]  =  0.962443\n",
       "  [5 ,  7]  =  0.996256\n",
       "  [1 ,  8]  =  0.115845\n",
       "  [5 ,  9]  =  0.91093\n",
       "  [6 ,  9]  =  0.111394\n",
       "  [9 ,  9]  =  0.121935\n",
       "  [10,  9]  =  0.791411\n",
       "  [1 , 10]  =  0.510902\n",
       "  [3 , 10]  =  0.25849\n",
       "  [4 , 10]  =  0.901283\n",
       "  [6 , 10]  =  0.16428\n",
       "  [7 , 10]  =  0.694474\n",
       "  [9 , 10]  =  0.288742"
      ]
     },
     "execution_count": 23,
     "metadata": {},
     "output_type": "execute_result"
    }
   ],
   "source": [
    "A = sprand(10, 10, 0.3)"
   ]
  },
  {
   "cell_type": "code",
   "execution_count": 24,
   "metadata": {},
   "outputs": [
    {
     "data": {
      "text/plain": [
       "([2, 4, 7, 8, 9, 2, 8, 1, 2, 6  …  5, 6, 9, 10, 1, 3, 4, 6, 7, 9], [1, 1, 1, 1, 1, 2, 2, 3, 3, 3  …  9, 9, 9, 9, 10, 10, 10, 10, 10, 10], [0.7824285709904106, 0.9209114189441177, 0.679592973686495, 0.37204501311788474, 0.16437891324452947, 0.9543124343971525, 0.3509044228071614, 0.3183644931952152, 0.5459297015876026, 0.031163488744423207  …  0.9109298912443864, 0.1113939322722266, 0.12193543383293104, 0.7914111313531575, 0.5109022051232688, 0.2584904938732677, 0.9012829833130864, 0.16428042083819605, 0.6944735193437284, 0.2887416145676087])"
      ]
     },
     "execution_count": 24,
     "metadata": {},
     "output_type": "execute_result"
    }
   ],
   "source": [
    "rows, cols, vals = findnz(A)"
   ]
  },
  {
   "cell_type": "markdown",
   "metadata": {},
   "source": [
    "**Exercício:** Fazer as 6 ordens da $C = AB$."
   ]
  },
  {
   "cell_type": "markdown",
   "metadata": {},
   "source": [
    "## Sistemas Lineares"
   ]
  },
  {
   "cell_type": "code",
   "execution_count": 25,
   "metadata": {},
   "outputs": [
    {
     "data": {
      "text/plain": [
       "3-element Array{Float64,1}:\n",
       " 1.6823950347877703\n",
       " 0.6061079321048974\n",
       " 1.9631716557408052"
      ]
     },
     "execution_count": 25,
     "metadata": {},
     "output_type": "execute_result"
    }
   ],
   "source": [
    "A = rand(3, 3)\n",
    "b = A * ones(3)"
   ]
  },
  {
   "cell_type": "code",
   "execution_count": 26,
   "metadata": {},
   "outputs": [
    {
     "data": {
      "text/plain": [
       "3-element Array{Float64,1}:\n",
       " 0.9999999999999997\n",
       " 1.0000000000000002\n",
       " 1.0000000000000002"
      ]
     },
     "execution_count": 26,
     "metadata": {},
     "output_type": "execute_result"
    }
   ],
   "source": [
    "A \\ b # Resolve Ax = b"
   ]
  },
  {
   "cell_type": "code",
   "execution_count": 50,
   "metadata": {},
   "outputs": [
    {
     "data": {
      "text/plain": [
       "3×3 Array{Float64,2}:\n",
       "  3.0  1.0  2.0\n",
       " -1.0  2.0  1.0\n",
       "  1.0  1.0  4.0"
      ]
     },
     "execution_count": 50,
     "metadata": {},
     "output_type": "execute_result"
    }
   ],
   "source": [
    "A = [3.0 1 2; -1 2 1; 1 1 4]"
   ]
  },
  {
   "cell_type": "code",
   "execution_count": 51,
   "metadata": {},
   "outputs": [
    {
     "data": {
      "text/plain": [
       "3-element Array{Float64,1}:\n",
       " 6.0\n",
       " 2.0\n",
       " 6.0"
      ]
     },
     "execution_count": 51,
     "metadata": {},
     "output_type": "execute_result"
    }
   ],
   "source": [
    "b = A * ones(3)"
   ]
  },
  {
   "cell_type": "code",
   "execution_count": 52,
   "metadata": {},
   "outputs": [
    {
     "data": {
      "text/plain": [
       "0.0"
      ]
     },
     "execution_count": 52,
     "metadata": {},
     "output_type": "execute_result"
    }
   ],
   "source": [
    "m21 = A[2,1] / A[1,1]\n",
    "m31 = A[3,1] / A[1,1]\n",
    "\n",
    "# L₂ = A[2,:], L₃ = A[3,:]\n",
    "A[2,2:end] = A[2,2:end] - m21 * A[1,2:end]\n",
    "A[2,1] = 0.0\n",
    "A[3,2:end] = A[3,2:end] - m31 * A[1,2:end]\n",
    "A[3,1] = 0.0"
   ]
  },
  {
   "cell_type": "code",
   "execution_count": 53,
   "metadata": {},
   "outputs": [
    {
     "data": {
      "text/plain": [
       "4.0"
      ]
     },
     "execution_count": 53,
     "metadata": {},
     "output_type": "execute_result"
    }
   ],
   "source": [
    "b[2] = b[2] - m21 * b[1]\n",
    "b[3] = b[3] - m31 * b[1]"
   ]
  },
  {
   "cell_type": "code",
   "execution_count": 54,
   "metadata": {
    "scrolled": true
   },
   "outputs": [
    {
     "data": {
      "text/plain": [
       "3×3 Array{Float64,2}:\n",
       " 3.0  1.0       2.0\n",
       " 0.0  2.33333   1.66667\n",
       " 0.0  0.666667  3.33333"
      ]
     },
     "execution_count": 54,
     "metadata": {},
     "output_type": "execute_result"
    }
   ],
   "source": [
    "A"
   ]
  },
  {
   "cell_type": "code",
   "execution_count": 55,
   "metadata": {},
   "outputs": [
    {
     "data": {
      "text/plain": [
       "3-element Array{Float64,1}:\n",
       " 6.0\n",
       " 4.0\n",
       " 4.0"
      ]
     },
     "execution_count": 55,
     "metadata": {},
     "output_type": "execute_result"
    }
   ],
   "source": [
    "b"
   ]
  },
  {
   "cell_type": "code",
   "execution_count": 56,
   "metadata": {},
   "outputs": [
    {
     "data": {
      "text/plain": [
       "3-element Array{Float64,1}:\n",
       " 1.0\n",
       " 1.0000000000000002\n",
       " 0.9999999999999999"
      ]
     },
     "execution_count": 56,
     "metadata": {},
     "output_type": "execute_result"
    }
   ],
   "source": [
    "A \\ b"
   ]
  },
  {
   "cell_type": "code",
   "execution_count": 57,
   "metadata": {},
   "outputs": [
    {
     "data": {
      "text/plain": [
       "3×3 Array{Float64,2}:\n",
       " 3.0  1.0      2.0\n",
       " 0.0  2.33333  1.66667\n",
       " 0.0  0.0      2.85714"
      ]
     },
     "execution_count": 57,
     "metadata": {},
     "output_type": "execute_result"
    }
   ],
   "source": [
    "m32 = A[3,2] / A[2,2]\n",
    "A[3,3:end] -= m32 * A[2,3:end]\n",
    "A[3,2] = 0.0\n",
    "b[3] -= m32 * b[2]\n",
    "\n",
    "A"
   ]
  },
  {
   "cell_type": "code",
   "execution_count": 58,
   "metadata": {},
   "outputs": [
    {
     "data": {
      "text/plain": [
       "3-element Array{Float64,1}:\n",
       " 6.0\n",
       " 4.0\n",
       " 2.8571428571428568"
      ]
     },
     "execution_count": 58,
     "metadata": {},
     "output_type": "execute_result"
    }
   ],
   "source": [
    "b"
   ]
  },
  {
   "cell_type": "code",
   "execution_count": 59,
   "metadata": {},
   "outputs": [
    {
     "data": {
      "text/plain": [
       "3-element Array{Float64,1}:\n",
       " 1.0\n",
       " 1.0000000000000002\n",
       " 0.9999999999999998"
      ]
     },
     "execution_count": 59,
     "metadata": {},
     "output_type": "execute_result"
    }
   ],
   "source": [
    "A \\ b"
   ]
  },
  {
   "cell_type": "code",
   "execution_count": 95,
   "metadata": {},
   "outputs": [
    {
     "data": {
      "text/plain": [
       "elim_gauss!"
      ]
     },
     "execution_count": 95,
     "metadata": {},
     "output_type": "execute_result"
    }
   ],
   "source": [
    "\"\"\"\n",
    "    elim_gauss!(A, b)\n",
    "\n",
    "Modifica A e b fazendo a eliminação Gaussiana.\n",
    "\"\"\"\n",
    "function elim_gauss!(A, b)\n",
    "    m, n = size(A)\n",
    "    for j = 1:n\n",
    "        cols = j+1:n\n",
    "        for i = j+1:m\n",
    "            mij = A[i,j] / A[j,j]\n",
    "            A[i,cols] -= mij * A[j,cols]\n",
    "            A[i,j] = 0.0\n",
    "            b[i] -= mij * b[j]\n",
    "        end\n",
    "    end\n",
    "end"
   ]
  },
  {
   "cell_type": "code",
   "execution_count": 105,
   "metadata": {},
   "outputs": [
    {
     "data": {
      "text/plain": [
       "5-element Array{Float64,1}:\n",
       " 2.3475499083281157\n",
       " 2.181498799480596\n",
       " 2.499556331617775\n",
       " 2.4942329905205627\n",
       " 2.396475772691586"
      ]
     },
     "execution_count": 105,
     "metadata": {},
     "output_type": "execute_result"
    }
   ],
   "source": [
    "A = rand(5, 5)\n",
    "#A[:,3] = A[:,2] + 2 * A[:,5]\n",
    "b = A * ones(5)"
   ]
  },
  {
   "cell_type": "code",
   "execution_count": 106,
   "metadata": {},
   "outputs": [
    {
     "data": {
      "text/plain": [
       "5×5 Array{Float64,2}:\n",
       " 0.110193  0.594594  0.433149  0.981168  0.228445\n",
       " 0.185314  0.701346  0.762031  0.104157  0.428651\n",
       " 0.369388  0.664129  0.275516  0.22822   0.962305\n",
       " 0.258435  0.433302  0.18556   0.724783  0.892154\n",
       " 0.67459   0.862213  0.575734  0.238763  0.0451755"
      ]
     },
     "execution_count": 106,
     "metadata": {},
     "output_type": "execute_result"
    }
   ],
   "source": [
    "A"
   ]
  },
  {
   "cell_type": "code",
   "execution_count": 107,
   "metadata": {},
   "outputs": [],
   "source": [
    "elim_gauss!(A, b)"
   ]
  },
  {
   "cell_type": "code",
   "execution_count": 108,
   "metadata": {},
   "outputs": [
    {
     "data": {
      "text/plain": [
       "5×5 Array{Float64,2}:\n",
       " 0.110193   0.594594   0.433149    0.981168   0.228445\n",
       " 0.0       -0.298595   0.0335967  -1.54589    0.0444698\n",
       " 0.0        0.0       -1.32602     3.82001   -0.00142394\n",
       " 0.0        0.0        0.0         0.696479   0.21424\n",
       " 0.0        0.0        0.0         0.0       -2.29749"
      ]
     },
     "execution_count": 108,
     "metadata": {},
     "output_type": "execute_result"
    }
   ],
   "source": [
    "A"
   ]
  },
  {
   "cell_type": "code",
   "execution_count": 109,
   "metadata": {},
   "outputs": [
    {
     "data": {
      "text/plain": [
       "5-element Array{Float64,1}:\n",
       "  2.3475499083281157\n",
       " -1.7664222060379138\n",
       "  2.492568216542689\n",
       "  0.9107185381019871\n",
       " -2.2974860033253117"
      ]
     },
     "execution_count": 109,
     "metadata": {},
     "output_type": "execute_result"
    }
   ],
   "source": [
    "b"
   ]
  },
  {
   "cell_type": "code",
   "execution_count": 110,
   "metadata": {},
   "outputs": [
    {
     "data": {
      "text/plain": [
       "5-element Array{Float64,1}:\n",
       " 0.9999999999999919\n",
       " 1.0000000000000016\n",
       " 0.9999999999999999\n",
       " 0.9999999999999994\n",
       " 1.000000000000002"
      ]
     },
     "execution_count": 110,
     "metadata": {},
     "output_type": "execute_result"
    }
   ],
   "source": [
    "A \\ b"
   ]
  },
  {
   "cell_type": "code",
   "execution_count": null,
   "metadata": {},
   "outputs": [],
   "source": []
  }
 ],
 "metadata": {
  "kernelspec": {
   "display_name": "Julia 1.4.0",
   "language": "julia",
   "name": "julia-1.4"
  },
  "language_info": {
   "file_extension": ".jl",
   "mimetype": "application/julia",
   "name": "julia",
   "version": "1.4.0"
  }
 },
 "nbformat": 4,
 "nbformat_minor": 4
}
